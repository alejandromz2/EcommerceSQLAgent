{
 "cells": [
  {
   "cell_type": "code",
   "execution_count": 1,
   "metadata": {},
   "outputs": [],
   "source": [
    "import pandas as pd\n",
    "import config\n",
    "from pathlib import Path\n",
    "from langchain.utilities import SQLDatabase\n",
    "from langchain.llms import OpenAI\n",
    "from langchain.agents import create_sql_agent, initialize_agent\n",
    "from langchain.agents.agent_toolkits import SQLDatabaseToolkit\n",
    "from langchain.agents.agent_types import AgentType\n",
    "from langchain.memory import ConversationBufferMemory\n",
    "import os\n",
    "os.environ[\"GOOGLE_APPLICATION_CREDENTIALS\"] = config.GOOGLE_CREDENTIALS"
   ]
  },
  {
   "cell_type": "code",
   "execution_count": 2,
   "metadata": {},
   "outputs": [
    {
     "name": "stderr",
     "output_type": "stream",
     "text": [
      "/Users/alejandromunoz/Library/Python/3.9/lib/python/site-packages/langchain_core/_api/deprecation.py:151: LangChainDeprecationWarning: The class `OpenAI` was deprecated in LangChain 0.0.10 and will be removed in 0.3.0. An updated version of the class exists in the langchain-openai package and should be used instead. To use it run `pip install -U langchain-openai` and import as `from langchain_openai import OpenAI`.\n",
      "  warn_deprecated(\n"
     ]
    }
   ],
   "source": [
    "# Creating Agent\n",
    "llm = OpenAI(temperature=0, verbose=True, openai_api_key=config.OPENAI_API_KEY)"
   ]
  },
  {
   "cell_type": "code",
   "execution_count": 3,
   "metadata": {},
   "outputs": [],
   "source": [
    "from langchain.sql_database import SQLDatabase\n",
    "from sqlalchemy import create_engine\n",
    "\n",
    "# Definir el proyecto y dataset\n",
    "PROJECT_ID = \"acoustic-env-452102-r3\"\n",
    "DATASET_ID = \"olist\"\n",
    "\n",
    "# Crear la URI de conexión\n",
    "BIGQUERY_URI = f\"bigquery://{PROJECT_ID}/{DATASET_ID}\"\n",
    "\n",
    "# Crear el motor SQLAlchemy para BigQuery\n",
    "engine = create_engine(BIGQUERY_URI)\n"
   ]
  },
  {
   "cell_type": "code",
   "execution_count": 4,
   "metadata": {},
   "outputs": [
    {
     "name": "stderr",
     "output_type": "stream",
     "text": [
      "/Users/alejandromunoz/Library/Python/3.9/lib/python/site-packages/google/cloud/bigquery/client.py:587: UserWarning: Cannot create BigQuery Storage client, the dependency google-cloud-bigquery-storage is not installed.\n",
      "  warnings.warn(\n"
     ]
    }
   ],
   "source": [
    "# Conectar la base de datos a LangChain\n",
    "db = SQLDatabase(engine)"
   ]
  },
  {
   "cell_type": "code",
   "execution_count": 6,
   "metadata": {},
   "outputs": [],
   "source": [
    "# Probar la conexión ejecutando una consulta en la tabla \"olist.ecommerce_data\"\n",
    "query = \"SELECT * FROM olist.olist_order_items LIMIT 5\"\n",
    "result = db.run(query)"
   ]
  },
  {
   "cell_type": "code",
   "execution_count": 7,
   "metadata": {},
   "outputs": [],
   "source": [
    "agent_executor_sql = create_sql_agent(\n",
    "    llm=llm,\n",
    "    toolkit=SQLDatabaseToolkit(db=db, llm=llm),\n",
    "    verbose=True,\n",
    "    agent_type=AgentType.ZERO_SHOT_REACT_DESCRIPTION,\n",
    ")"
   ]
  },
  {
   "cell_type": "code",
   "execution_count": 9,
   "metadata": {},
   "outputs": [],
   "source": [
    "from langchain.chains import LLMChain\n",
    "from langchain.prompts import PromptTemplate\n",
    "\n",
    "# Crear el prompt para mejorar la respuesta en español\n",
    "template = \"\"\"\n",
    "Eres un asistente virtual especializado en eCommerce, diseñado para ayudar a los clientes de manera clara, amigable y útil.\n",
    "\n",
    "Tu tarea es transformar la siguiente información técnica obtenida de una consulta SQL en una respuesta atractiva y comprensible para el usuario final. Asegúrate de:\n",
    "\n",
    "1️⃣ **Hacer la respuesta fácil de entender** (evita términos técnicos innecesarios).\n",
    "2️⃣ **Ser conversacional y cercano** (habla como un asistente amigable, no como un robot).\n",
    "3️⃣ **Organizar la información** en una estructura clara (listas, párrafos cortos, etc.).\n",
    "4️⃣ **Ofrecer contexto adicional** si es necesario (ejemplo: si el usuario pregunta por un producto, menciona beneficios clave).\n",
    "5️⃣ **Finalizar con una llamada a la acción** si aplica (ejemplo: \"¿Te gustaría que te ayude a encontrar más productos similares? 😊\").\n",
    "\n",
    "### 🔹 **Ejemplo de Transformación**\n",
    "❌ **Entrada SQL sin formato:**\n",
    "\"El producto más vendido es el 'Smartphone X'. Se han vendido 10,000 unidades en los últimos 30 días.\"\n",
    "\n",
    "✅ **Salida esperada (más clara y amigable):**\n",
    "📢 **¡El Smartphone X es un éxito de ventas!** 🚀  \n",
    "En los últimos 30 días, **10,000 personas** lo han comprado, lo que lo convierte en uno de los productos más populares de nuestra tienda.  \n",
    "👉 **¿Quieres conocer más sobre sus características o encontrar accesorios compatibles?** 😊\n",
    "\n",
    "---\n",
    "\n",
    "### 🔹 **Aquí está la respuesta SQL que debes reformatear:**\n",
    "{respuesta_sql}\n",
    "\n",
    "🔄 **Devuelve la versión mejorada aquí:**\n",
    "\"\"\"\n",
    "\n"
   ]
  },
  {
   "cell_type": "code",
   "execution_count": 10,
   "metadata": {},
   "outputs": [
    {
     "name": "stderr",
     "output_type": "stream",
     "text": [
      "/Users/alejandromunoz/Library/Python/3.9/lib/python/site-packages/langchain_core/_api/deprecation.py:151: LangChainDeprecationWarning: The class `LLMChain` was deprecated in LangChain 0.1.17 and will be removed in 1.0. Use RunnableSequence, e.g., `prompt | llm` instead.\n",
      "  warn_deprecated(\n"
     ]
    }
   ],
   "source": [
    "prompt = PromptTemplate(template=template, input_variables=[\"respuesta_sql\"])\n",
    "\n",
    "# 2️⃣ Crear la cadena de traducción y reformateo\n",
    "agent_executor_translator = LLMChain(llm=llm, prompt=prompt, verbose=True)"
   ]
  },
  {
   "cell_type": "code",
   "execution_count": 11,
   "metadata": {},
   "outputs": [],
   "source": [
    "# 3️⃣ Función para ejecutar los agentes en secuencia\n",
    "def preguntar_sql_en_espanol(pregunta):\n",
    "    print(f\"\\n🔹 Pregunta original: {pregunta}\")\n",
    "\n",
    "    # 1. Ejecutar consulta SQL con el primer agente\n",
    "    respuesta_sql = agent_executor_sql.run(pregunta)\n",
    "    print(f\"\\n✅ Respuesta SQL: {respuesta_sql}\")\n",
    "\n",
    "    # 2. Traducir y reformatear con el segundo agente\n",
    "    respuesta_final = agent_executor_translator.run(respuesta_sql)\n",
    "\n",
    "    return respuesta_final"
   ]
  },
  {
   "cell_type": "code",
   "execution_count": 12,
   "metadata": {},
   "outputs": [
    {
     "name": "stdout",
     "output_type": "stream",
     "text": [
      "\n",
      "🔹 Pregunta original: ¿Cual es el producto más caro vendido en la tienda?\n",
      "\n",
      "\n",
      "\u001b[1m> Entering new SQL Agent Executor chain...\u001b[0m\n"
     ]
    },
    {
     "name": "stderr",
     "output_type": "stream",
     "text": [
      "/Users/alejandromunoz/Library/Python/3.9/lib/python/site-packages/langchain_core/_api/deprecation.py:151: LangChainDeprecationWarning: The method `Chain.run` was deprecated in langchain 0.1.0 and will be removed in 1.0. Use invoke instead.\n",
      "  warn_deprecated(\n"
     ]
    },
    {
     "name": "stdout",
     "output_type": "stream",
     "text": [
      "\u001b[32;1m\u001b[1;3mAction: sql_db_list_tables\n",
      "Action Input: \u001b[0m\u001b[38;5;200m\u001b[1;3molist_customers, olist_geolocation, olist_order_items, olist_order_payments\u001b[0m\u001b[32;1m\u001b[1;3m I should query the olist_order_items table to get the product prices.\n",
      "Action: sql_db_schema\n",
      "Action Input: olist_order_items\u001b[0m\u001b[33;1m\u001b[1;3m\n",
      "CREATE TABLE `olist_order_items` (\n",
      "\t`order_id` STRING, \n",
      "\t`order_item_id` INT64, \n",
      "\t`product_id` STRING, \n",
      "\t`seller_id` STRING, \n",
      "\t`shipping_limit_date` STRING, \n",
      "\t`price` FLOAT64, \n",
      "\t`freight_value` FLOAT64\n",
      ")\n",
      "\n",
      "/*\n",
      "3 rows from olist_order_items table:\n",
      "order_id\torder_item_id\tproduct_id\tseller_id\tshipping_limit_date\tprice\tfreight_value\n",
      "3ee6513ae7ea23bdfab5b9ab60bffcb5\t1\t8a3254bee785a526d548a81a9bc3c9be\t96804ea39d96eb908e7c3afdb671bb9e\t2018-05-04 03:55:26\t0.85\t18.23\n",
      "6e864b3f0ec71031117ad4cf46b7f2a1\t1\t8a3254bee785a526d548a81a9bc3c9be\t96804ea39d96eb908e7c3afdb671bb9e\t2018-05-02 20:30:34\t0.85\t18.23\n",
      "c5bdd8ef3c0ec420232e668302179113\t2\t8a3254bee785a526d548a81a9bc3c9be\t96804ea39d96eb908e7c3afdb671bb9e\t2018-05-07 02:55:22\t0.85\t22.3\n",
      "*/\u001b[0m\u001b[32;1m\u001b[1;3m I should query the olist_order_items table to get the product prices and sort by price in descending order.\n",
      "Action: sql_db_query\n",
      "Action Input: SELECT price FROM olist_order_items ORDER BY price DESC LIMIT 1\u001b[0m\u001b[36;1m\u001b[1;3m[(6735.0,)]\u001b[0m\u001b[32;1m\u001b[1;3m I now know the final answer\n",
      "Final Answer: 6735.0\u001b[0m\n",
      "\n",
      "\u001b[1m> Finished chain.\u001b[0m\n",
      "\n",
      "✅ Respuesta SQL: 6735.0\n",
      "\n",
      "\n",
      "\u001b[1m> Entering new LLMChain chain...\u001b[0m\n",
      "Prompt after formatting:\n",
      "\u001b[32;1m\u001b[1;3m\n",
      "Eres un asistente virtual especializado en eCommerce, diseñado para ayudar a los clientes de manera clara, amigable y útil.\n",
      "\n",
      "Tu tarea es transformar la siguiente información técnica obtenida de una consulta SQL en una respuesta atractiva y comprensible para el usuario final. Asegúrate de:\n",
      "\n",
      "1️⃣ **Hacer la respuesta fácil de entender** (evita términos técnicos innecesarios).\n",
      "2️⃣ **Ser conversacional y cercano** (habla como un asistente amigable, no como un robot).\n",
      "3️⃣ **Organizar la información** en una estructura clara (listas, párrafos cortos, etc.).\n",
      "4️⃣ **Ofrecer contexto adicional** si es necesario (ejemplo: si el usuario pregunta por un producto, menciona beneficios clave).\n",
      "5️⃣ **Finalizar con una llamada a la acción** si aplica (ejemplo: \"¿Te gustaría que te ayude a encontrar más productos similares? 😊\").\n",
      "\n",
      "### 🔹 **Ejemplo de Transformación**\n",
      "❌ **Entrada SQL sin formato:**\n",
      "\"El producto más vendido es el 'Smartphone X'. Se han vendido 10,000 unidades en los últimos 30 días.\"\n",
      "\n",
      "✅ **Salida esperada (más clara y amigable):**\n",
      "📢 **¡El Smartphone X es un éxito de ventas!** 🚀  \n",
      "En los últimos 30 días, **10,000 personas** lo han comprado, lo que lo convierte en uno de los productos más populares de nuestra tienda.  \n",
      "👉 **¿Quieres conocer más sobre sus características o encontrar accesorios compatibles?** 😊\n",
      "\n",
      "---\n",
      "\n",
      "### 🔹 **Aquí está la respuesta SQL que debes reformatear:**\n",
      "6735.0\n",
      "\n",
      "🔄 **Devuelve la versión mejorada aquí:**\n",
      "\u001b[0m\n",
      "\n",
      "\u001b[1m> Finished chain.\u001b[0m\n",
      "\n",
      "📢 **¡Buenas noticias!** 🎉  \n",
      "El producto que estás buscando tiene un precio de **$6735.0**.  \n",
      "👉 **¿Te gustaría ver más detalles sobre este producto o buscar opciones similares?** 😊\n"
     ]
    }
   ],
   "source": [
    "# 6️⃣ Prueba del flujo de agentes\n",
    "pregunta_usuario = \"¿Cual es el producto más caro vendido en la tienda?\"\n",
    "respuesta = preguntar_sql_en_espanol(pregunta_usuario)\n",
    "print(respuesta)"
   ]
  },
  {
   "cell_type": "code",
   "execution_count": 13,
   "metadata": {},
   "outputs": [
    {
     "data": {
      "text/plain": [
       "'\\n📢 **¡Buenas noticias!** 🎉  \\nEl producto que estás buscando tiene un precio de **$6735.0**.  \\n👉 **¿Te gustaría ver más detalles sobre este producto o buscar opciones similares?** 😊'"
      ]
     },
     "execution_count": 13,
     "metadata": {},
     "output_type": "execute_result"
    }
   ],
   "source": [
    "respuesta"
   ]
  }
 ],
 "metadata": {
  "kernelspec": {
   "display_name": "Python 3",
   "language": "python",
   "name": "python3"
  },
  "language_info": {
   "codemirror_mode": {
    "name": "ipython",
    "version": 3
   },
   "file_extension": ".py",
   "mimetype": "text/x-python",
   "name": "python",
   "nbconvert_exporter": "python",
   "pygments_lexer": "ipython3",
   "version": "3.9.6"
  }
 },
 "nbformat": 4,
 "nbformat_minor": 2
}
